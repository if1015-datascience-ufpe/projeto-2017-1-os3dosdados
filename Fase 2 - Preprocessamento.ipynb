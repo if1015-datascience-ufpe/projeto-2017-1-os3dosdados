{
 "cells": [
  {
   "cell_type": "code",
   "execution_count": 2,
   "metadata": {
    "collapsed": true
   },
   "outputs": [],
   "source": [
    "import pandas as pd\n",
    "import numpy as np\n",
    "import matplotlib.pyplot as plt"
   ]
  },
  {
   "cell_type": "code",
   "execution_count": 5,
   "metadata": {
    "collapsed": false
   },
   "outputs": [],
   "source": [
    "#Importando o csv substituindo os valores não informados por NaN\n",
    "# pdDataScraping = pd.read_csv('saidaDataScrapingAval.csv',sep=';',header=0,na_values=\"Não avaliadoNão disponível\",names=[\"Nome\", \"Localização\",\"Quartos\", \"Serviço\", \"Limpeza\", \"Custo-Benefício\",\"Conforto\",\"Facilidades\",\"Prédio\",\"Café da Manhã\",\"Comida\"])\n",
    "\n",
    "# ATENÇÃO!\n",
    "#\n",
    "# A depender do editor do arquivo csv, o separador pode ser alterado!\n",
    "#\n",
    "pdDataScraping = pd.read_csv('saidaFinalDataScraping.csv',sep=',', header=0, na_values=\"Não avaliadoNão disponível\")\n",
    "\n",
    "# Verificamos abaixo que algumas colunas possem 3/4 ou mais de valores NaN\n",
    "# Por isso achamos melhor excluir tais atributos\n",
    "pdDataScraping.isnull().sum()\n",
    "\n",
    "#Preenchendo os valores NaN com a média da coluna\n",
    "pdFilledNa = pdDataScraping.apply(lambda x: x.fillna(x.mean()) if x.dtype.kind in 'ifc' else x.fillna(''))\n",
    "# pdFilledNa = pdFilledNa.apply(lambda x: x/10 if x.dtype.kind in 'ifc' else x)\n",
    "\n",
    "# pdFilledNa\n",
    "\n",
    "# fig = plt.figure()\n",
    "# plt.matshow(pdFilledNa.corr())\n",
    "\n",
    "# ax = fig.add_subplot(111)\n",
    "\n",
    "# cax = ax.matshow(pdFilledNa.corr(), interpolation='nearest')\n",
    "\n",
    "# fig.colorbar(cax)\n",
    "\n",
    "# plt.show()\n",
    "\n",
    "pdCorrelations = pdFilledNa.corr()\n",
    "\n",
    "#\n",
    "# colunas a remover\n",
    "#\n",
    "# conforto; facilidades; servico; limpeza; custo-beneficio; predio; TV a cabo; microondas; internet;\n",
    "# Wi-Fi grátis nos quartos, geladeira, Varanda / Terraço\n",
    "\n",
    "del pdFilledNa[\"conforto\"]\n",
    "del pdFilledNa[\"servico\"]\n",
    "del pdFilledNa[\"limpeza\"]\n",
    "del pdFilledNa[\"custo-beneficio\"]\n",
    "del pdFilledNa[\"predio\"]\n",
    "del pdFilledNa[\"Microondas\"]\n",
    "del pdFilledNa[\"TV a cabo\"]\n",
    "del pdFilledNa[\"Internet\"]\n",
    "del pdFilledNa[\"Wi-Fi grátis nos quartos\"]\n",
    "del pdFilledNa[\"Geladeira\"]\n",
    "del pdFilledNa[\"Varanda / Terraço\"]\n",
    "\n",
    "pdFilledNa.to_csv('saidaPreProcessamento.csv',sep=',',encoding='utf-8',float_format='%.2f')\n",
    "# pdFilledNa.head()\n",
    "\n",
    "# pdDataScraping.head()"
   ]
  },
  {
   "cell_type": "code",
   "execution_count": null,
   "metadata": {
    "collapsed": true
   },
   "outputs": [],
   "source": []
  }
 ],
 "metadata": {
  "kernelspec": {
   "display_name": "Python 3",
   "language": "python",
   "name": "python3"
  },
  "language_info": {
   "codemirror_mode": {
    "name": "ipython",
    "version": 3
   },
   "file_extension": ".py",
   "mimetype": "text/x-python",
   "name": "python",
   "nbconvert_exporter": "python",
   "pygments_lexer": "ipython3",
   "version": "3.6.0"
  }
 },
 "nbformat": 4,
 "nbformat_minor": 2
}
