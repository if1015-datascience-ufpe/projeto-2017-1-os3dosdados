{
 "cells": [
  {
   "cell_type": "code",
   "execution_count": 37,
   "metadata": {
    "collapsed": true
   },
   "outputs": [],
   "source": [
    "import pandas as pd\n",
    "import numpy as np"
   ]
  },
  {
   "cell_type": "code",
   "execution_count": 77,
   "metadata": {
    "collapsed": false
   },
   "outputs": [],
   "source": [
    "#Pre processando as páginas de avaliação dos usuários\n",
    "i = 1\n",
    "while i <=5 :\n",
    "    nomeArquivoDS = \"saidaDataScraping/saidaDataScrapingAval%d.csv\" % i\n",
    "\n",
    "    #Import sem substituir valores faltando por Nan\n",
    "    #pdDataScraping = pd.read_csv(nomeArquivoDS,sep=';',index_col =False, header=0,names=[\"Index\",\"Nome do Hotel\", \"Localizacao\",\"Quartos\", \"Servico\", \"Limpeza\", \"Custo-Benefício\",\"Conforto\",\"Facilidades\",\"Prédio\",\"Café da Manhã\",\"Comida\"])\n",
    "\n",
    "    pdDataScraping = pd.read_csv(nomeArquivoDS,sep=';',index_col =False, header=0,na_values=\"Não avaliadoNão disponível\",names=[\"Index\",\"Nome do Hotel\", \"Localizacao\",\"Quartos\", \"Servico\", \"Limpeza\", \"Custo-Benefício\",\"Conforto\",\"Facilidades\",\"Prédio\",\"Café da Manhã\",\"Comida\"])\n",
    "    pdDropIndex = pdDataScraping.drop('Index',axis=1)\n",
    "    \n",
    "    #pdDropIndex.head()\n",
    "    #asd = pdDropIndex.iloc[:,1:].fillna(-1).astype('int64').replace(-1, np.nan)\n",
    "    #pdValoresInt = pdDropIndex.iloc[:,1:].fillna(-1).astype('int64')\n",
    "    \n",
    "    arquivoSaida = 'saidaPreProcessamento/saidaPreProcessamentoAval%d.csv' % i\n",
    "    pdDropIndex.to_csv(arquivoSaida,sep=';',encoding='utf-8')\n",
    "    i += 1\n",
    "    "
   ]
  },
  {
   "cell_type": "code",
   "execution_count": null,
   "metadata": {
    "collapsed": false
   },
   "outputs": [],
   "source": []
  },
  {
   "cell_type": "code",
   "execution_count": null,
   "metadata": {
    "collapsed": true
   },
   "outputs": [],
   "source": []
  },
  {
   "cell_type": "code",
   "execution_count": null,
   "metadata": {
    "collapsed": true
   },
   "outputs": [],
   "source": []
  }
 ],
 "metadata": {
  "kernelspec": {
   "display_name": "Python 3",
   "language": "python",
   "name": "python3"
  },
  "language_info": {
   "codemirror_mode": {
    "name": "ipython",
    "version": 3
   },
   "file_extension": ".py",
   "mimetype": "text/x-python",
   "name": "python",
   "nbconvert_exporter": "python",
   "pygments_lexer": "ipython3",
   "version": "3.6.0"
  }
 },
 "nbformat": 4,
 "nbformat_minor": 2
}
