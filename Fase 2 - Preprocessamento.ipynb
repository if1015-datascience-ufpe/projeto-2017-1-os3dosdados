{
 "cells": [
  {
   "cell_type": "code",
   "execution_count": 4,
   "metadata": {
    "collapsed": true
   },
   "outputs": [],
   "source": [
    "import pandas as pd\n",
    "import numpy as np"
   ]
  },
  {
   "cell_type": "code",
   "execution_count": 5,
   "metadata": {
    "collapsed": true
   },
   "outputs": [],
   "source": [
    "pdDataScraping = pd.read_csv(\"saidaDataScraping.csv\",sep=';')"
   ]
  },
  {
   "cell_type": "code",
   "execution_count": 6,
   "metadata": {
    "collapsed": false
   },
   "outputs": [
    {
     "data": {
      "text/html": [
       "<div>\n",
       "<table border=\"1\" class=\"dataframe\">\n",
       "  <thead>\n",
       "    <tr style=\"text-align: right;\">\n",
       "      <th></th>\n",
       "      <th>nome_do_hotel</th>\n",
       "      <th>localizacao</th>\n",
       "      <th>quartos</th>\n",
       "      <th>servico</th>\n",
       "      <th>limpeza</th>\n",
       "      <th>custo-beneficio</th>\n",
       "      <th>conforto</th>\n",
       "      <th>facilidades</th>\n",
       "      <th>predio</th>\n",
       "      <th>cafe_da_manha</th>\n",
       "      <th>comida</th>\n",
       "    </tr>\n",
       "  </thead>\n",
       "  <tbody>\n",
       "    <tr>\n",
       "      <th>0</th>\n",
       "      <td>Radisson Recife</td>\n",
       "      <td>87</td>\n",
       "      <td>92</td>\n",
       "      <td>83</td>\n",
       "      <td>78</td>\n",
       "      <td>67</td>\n",
       "      <td>65</td>\n",
       "      <td>88</td>\n",
       "      <td>79</td>\n",
       "      <td>70</td>\n",
       "      <td>90</td>\n",
       "    </tr>\n",
       "    <tr>\n",
       "      <th>1</th>\n",
       "      <td>Golden Tulip</td>\n",
       "      <td>80</td>\n",
       "      <td>90</td>\n",
       "      <td>56</td>\n",
       "      <td>78</td>\n",
       "      <td>90</td>\n",
       "      <td>55</td>\n",
       "      <td>89</td>\n",
       "      <td>90</td>\n",
       "      <td>78</td>\n",
       "      <td>67</td>\n",
       "    </tr>\n",
       "    <tr>\n",
       "      <th>2</th>\n",
       "      <td>Marhotel</td>\n",
       "      <td>87</td>\n",
       "      <td>92</td>\n",
       "      <td>83</td>\n",
       "      <td>78</td>\n",
       "      <td>67</td>\n",
       "      <td>65</td>\n",
       "      <td>88</td>\n",
       "      <td>79</td>\n",
       "      <td>70</td>\n",
       "      <td>90</td>\n",
       "    </tr>\n",
       "    <tr>\n",
       "      <th>3</th>\n",
       "      <td>Atlante Plaza</td>\n",
       "      <td>Não avaliadoNão disponível</td>\n",
       "      <td>90</td>\n",
       "      <td>56</td>\n",
       "      <td>78</td>\n",
       "      <td>90</td>\n",
       "      <td>55</td>\n",
       "      <td>89</td>\n",
       "      <td>90</td>\n",
       "      <td>78</td>\n",
       "      <td>67</td>\n",
       "    </tr>\n",
       "  </tbody>\n",
       "</table>\n",
       "</div>"
      ],
      "text/plain": [
       "     nome_do_hotel                 localizacao  quartos  servico  limpeza  \\\n",
       "0  Radisson Recife                          87       92       83       78   \n",
       "1     Golden Tulip                          80       90       56       78   \n",
       "2         Marhotel                          87       92       83       78   \n",
       "3    Atlante Plaza  Não avaliadoNão disponível       90       56       78   \n",
       "\n",
       "   custo-beneficio  conforto  facilidades  predio  cafe_da_manha  comida  \n",
       "0               67        65           88      79             70      90  \n",
       "1               90        55           89      90             78      67  \n",
       "2               67        65           88      79             70      90  \n",
       "3               90        55           89      90             78      67  "
      ]
     },
     "execution_count": 6,
     "metadata": {},
     "output_type": "execute_result"
    }
   ],
   "source": [
    "pdDataScraping.head()"
   ]
  },
  {
   "cell_type": "code",
   "execution_count": null,
   "metadata": {
    "collapsed": true
   },
   "outputs": [],
   "source": []
  }
 ],
 "metadata": {
  "kernelspec": {
   "display_name": "Python 3",
   "language": "python",
   "name": "python3"
  },
  "language_info": {
   "codemirror_mode": {
    "name": "ipython",
    "version": 3
   },
   "file_extension": ".py",
   "mimetype": "text/x-python",
   "name": "python",
   "nbconvert_exporter": "python",
   "pygments_lexer": "ipython3",
   "version": "3.6.0"
  }
 },
 "nbformat": 4,
 "nbformat_minor": 2
}
