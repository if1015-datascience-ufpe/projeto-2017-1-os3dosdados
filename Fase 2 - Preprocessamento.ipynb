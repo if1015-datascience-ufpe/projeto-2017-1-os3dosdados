{
 "cells": [
  {
   "cell_type": "code",
   "execution_count": 1,
   "metadata": {
    "collapsed": true
   },
   "outputs": [],
   "source": [
    "import pandas as pd\n",
    "import numpy as np"
   ]
  },
  {
   "cell_type": "code",
   "execution_count": 2,
   "metadata": {
    "collapsed": false
   },
   "outputs": [
    {
     "data": {
      "text/html": [
       "<div>\n",
       "<table border=\"1\" class=\"dataframe\">\n",
       "  <thead>\n",
       "    <tr style=\"text-align: right;\">\n",
       "      <th></th>\n",
       "      <th>Nome</th>\n",
       "      <th>Localização</th>\n",
       "      <th>Quartos</th>\n",
       "      <th>Serviço</th>\n",
       "      <th>Limpeza</th>\n",
       "      <th>Custo-Benefício</th>\n",
       "      <th>Conforto</th>\n",
       "      <th>Facilidades</th>\n",
       "      <th>Prédio</th>\n",
       "    </tr>\n",
       "  </thead>\n",
       "  <tbody>\n",
       "    <tr>\n",
       "      <th>0</th>\n",
       "      <td>Radisson Recife</td>\n",
       "      <td>9.2</td>\n",
       "      <td>8.4</td>\n",
       "      <td>7.9</td>\n",
       "      <td>8.5</td>\n",
       "      <td>7.8</td>\n",
       "      <td>8.5</td>\n",
       "      <td>8.3</td>\n",
       "      <td>8.0</td>\n",
       "    </tr>\n",
       "    <tr>\n",
       "      <th>1</th>\n",
       "      <td>Golden Tulip Recife Boa Viagem</td>\n",
       "      <td>8.9</td>\n",
       "      <td>8.0</td>\n",
       "      <td>8.4</td>\n",
       "      <td>8.1</td>\n",
       "      <td>7.6</td>\n",
       "      <td>8.1</td>\n",
       "      <td>8.0</td>\n",
       "      <td>7.5</td>\n",
       "    </tr>\n",
       "    <tr>\n",
       "      <th>2</th>\n",
       "      <td>Mar Hotel Conventions</td>\n",
       "      <td>8.6</td>\n",
       "      <td>8.2</td>\n",
       "      <td>7.9</td>\n",
       "      <td>8.4</td>\n",
       "      <td>7.7</td>\n",
       "      <td>8.3</td>\n",
       "      <td>8.3</td>\n",
       "      <td>7.9</td>\n",
       "    </tr>\n",
       "    <tr>\n",
       "      <th>3</th>\n",
       "      <td>Best Western Hotel Manibu Recife</td>\n",
       "      <td>8.4</td>\n",
       "      <td>7.7</td>\n",
       "      <td>8.2</td>\n",
       "      <td>8.6</td>\n",
       "      <td>7.7</td>\n",
       "      <td>8.2</td>\n",
       "      <td>8.2</td>\n",
       "      <td>8.2</td>\n",
       "    </tr>\n",
       "    <tr>\n",
       "      <th>4</th>\n",
       "      <td>Transamérica Prestige Beach Class International</td>\n",
       "      <td>8.9</td>\n",
       "      <td>8.4</td>\n",
       "      <td>8.8</td>\n",
       "      <td>8.8</td>\n",
       "      <td>7.9</td>\n",
       "      <td>8.9</td>\n",
       "      <td>8.5</td>\n",
       "      <td>8.5</td>\n",
       "    </tr>\n",
       "  </tbody>\n",
       "</table>\n",
       "</div>"
      ],
      "text/plain": [
       "                                              Nome  Localização  Quartos  \\\n",
       "0                                  Radisson Recife          9.2      8.4   \n",
       "1                   Golden Tulip Recife Boa Viagem          8.9      8.0   \n",
       "2                            Mar Hotel Conventions          8.6      8.2   \n",
       "3                 Best Western Hotel Manibu Recife          8.4      7.7   \n",
       "4  Transamérica Prestige Beach Class International          8.9      8.4   \n",
       "\n",
       "   Serviço  Limpeza  Custo-Benefício  Conforto  Facilidades  Prédio  \n",
       "0      7.9      8.5              7.8       8.5          8.3     8.0  \n",
       "1      8.4      8.1              7.6       8.1          8.0     7.5  \n",
       "2      7.9      8.4              7.7       8.3          8.3     7.9  \n",
       "3      8.2      8.6              7.7       8.2          8.2     8.2  \n",
       "4      8.8      8.8              7.9       8.9          8.5     8.5  "
      ]
     },
     "execution_count": 2,
     "metadata": {},
     "output_type": "execute_result"
    }
   ],
   "source": [
    "#Importando o csv substituindo os valores não informados por NaN\n",
    "pdDataScraping = pd.read_csv('saidaDataScrapingAval.csv',sep=';',header=0,na_values=\"Não avaliadoNão disponível\",names=[\"Nome\", \"Localização\",\"Quartos\", \"Serviço\", \"Limpeza\", \"Custo-Benefício\",\"Conforto\",\"Facilidades\",\"Prédio\",\"Café da Manhã\",\"Comida\"])\n",
    "\n",
    "#Verificamos abaixo que algumas colunas possem 3/4 ou mais de valores NaN\n",
    "#Por isso achamos melhor excluir tais atributos\n",
    "pdDataScraping.isnull().sum()\n",
    "pdDataScraping = pdDataScraping.drop(['Café da Manhã','Comida'],axis=1)\n",
    "#Preenchendo os valores NaN com a média da coluna\n",
    "pdFilledNa = pdDataScraping.apply(lambda x: x.fillna(x.mean()) if x.dtype.kind in 'ifc' else x.fillna(''))\n",
    "pdFilledNa = pdFilledNa.apply(lambda x: x/10 if x.dtype.kind in 'ifc' else x)\n",
    "\n",
    "pdFilledNa.to_csv('saidaPreProcessamentoAval.csv',sep=';',encoding='utf-8',float_format='%.2f')\n",
    "pdFilledNa.head()"
   ]
  },
  {
   "cell_type": "code",
   "execution_count": null,
   "metadata": {
    "collapsed": true
   },
   "outputs": [],
   "source": []
  }
 ],
 "metadata": {
  "kernelspec": {
   "display_name": "Python 3",
   "language": "python",
   "name": "python3"
  },
  "language_info": {
   "codemirror_mode": {
    "name": "ipython",
    "version": 3
   },
   "file_extension": ".py",
   "mimetype": "text/x-python",
   "name": "python",
   "nbconvert_exporter": "python",
   "pygments_lexer": "ipython3",
   "version": "3.6.0"
  }
 },
 "nbformat": 4,
 "nbformat_minor": 2
}
