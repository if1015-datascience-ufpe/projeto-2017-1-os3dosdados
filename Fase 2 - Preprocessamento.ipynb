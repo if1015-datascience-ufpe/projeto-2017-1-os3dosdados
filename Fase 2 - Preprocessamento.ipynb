{
 "cells": [
  {
   "cell_type": "code",
   "execution_count": 1,
   "metadata": {
    "collapsed": true
   },
   "outputs": [],
   "source": [
    "import pandas as pd\n",
    "import numpy as np"
   ]
  },
  {
   "cell_type": "code",
   "execution_count": 15,
   "metadata": {
    "collapsed": true
   },
   "outputs": [],
   "source": [
    "pdDataScraping = pd.read_csv(\"saidaDataScraping.csv\",sep=';',header=0,na_values=\"Não avaliadoNão disponível\",names=[\"Nome do Hotel\", \"Localizacao\",\"Quartos\", \"Servico\", \"Limpeza\", \"Custo-Benefício\",\"Conforto\",\"Facilidades\",\"Prédio\",\"Café da Manhã\",\"Comida\"])"
   ]
  },
  {
   "cell_type": "code",
   "execution_count": 16,
   "metadata": {
    "collapsed": false
   },
   "outputs": [
    {
     "data": {
      "text/html": [
       "<div>\n",
       "<table border=\"1\" class=\"dataframe\">\n",
       "  <thead>\n",
       "    <tr style=\"text-align: right;\">\n",
       "      <th></th>\n",
       "      <th>Nome do Hotel</th>\n",
       "      <th>Localizacao</th>\n",
       "      <th>Quartos</th>\n",
       "      <th>Servico</th>\n",
       "      <th>Limpeza</th>\n",
       "      <th>Custo-Benefício</th>\n",
       "      <th>Conforto</th>\n",
       "      <th>Facilidades</th>\n",
       "      <th>Prédio</th>\n",
       "      <th>Café da Manhã</th>\n",
       "      <th>Comida</th>\n",
       "    </tr>\n",
       "  </thead>\n",
       "  <tbody>\n",
       "    <tr>\n",
       "      <th>0</th>\n",
       "      <td>Radisson Recife</td>\n",
       "      <td>87.0</td>\n",
       "      <td>92</td>\n",
       "      <td>83</td>\n",
       "      <td>78</td>\n",
       "      <td>67</td>\n",
       "      <td>65</td>\n",
       "      <td>88</td>\n",
       "      <td>79</td>\n",
       "      <td>70</td>\n",
       "      <td>90</td>\n",
       "    </tr>\n",
       "    <tr>\n",
       "      <th>1</th>\n",
       "      <td>Golden Tulip</td>\n",
       "      <td>80.0</td>\n",
       "      <td>90</td>\n",
       "      <td>56</td>\n",
       "      <td>78</td>\n",
       "      <td>90</td>\n",
       "      <td>55</td>\n",
       "      <td>89</td>\n",
       "      <td>90</td>\n",
       "      <td>78</td>\n",
       "      <td>67</td>\n",
       "    </tr>\n",
       "    <tr>\n",
       "      <th>2</th>\n",
       "      <td>Marhotel</td>\n",
       "      <td>87.0</td>\n",
       "      <td>92</td>\n",
       "      <td>83</td>\n",
       "      <td>78</td>\n",
       "      <td>67</td>\n",
       "      <td>65</td>\n",
       "      <td>88</td>\n",
       "      <td>79</td>\n",
       "      <td>70</td>\n",
       "      <td>90</td>\n",
       "    </tr>\n",
       "  </tbody>\n",
       "</table>\n",
       "</div>"
      ],
      "text/plain": [
       "     Nome do Hotel  Localizacao  Quartos  Servico  Limpeza  Custo-Benefício  \\\n",
       "0  Radisson Recife         87.0       92       83       78               67   \n",
       "1     Golden Tulip         80.0       90       56       78               90   \n",
       "2         Marhotel         87.0       92       83       78               67   \n",
       "\n",
       "   Conforto  Facilidades  Prédio  Café da Manhã  Comida  \n",
       "0        65           88      79             70      90  \n",
       "1        55           89      90             78      67  \n",
       "2        65           88      79             70      90  "
      ]
     },
     "execution_count": 16,
     "metadata": {},
     "output_type": "execute_result"
    }
   ],
   "source": [
    "##Dropa as linhas que tiverem alguma coluna com NaN\n",
    "pdNoNan = pdDataScraping.dropna(axis=0,how='any')\n",
    "pdNoNan.head()\n"
   ]
  },
  {
   "cell_type": "code",
   "execution_count": 27,
   "metadata": {
    "collapsed": false
   },
   "outputs": [
    {
     "name": "stderr",
     "output_type": "stream",
     "text": [
      "/Applications/anaconda/lib/python3.6/site-packages/pandas/core/indexing.py:477: SettingWithCopyWarning: \n",
      "A value is trying to be set on a copy of a slice from a DataFrame.\n",
      "Try using .loc[row_indexer,col_indexer] = value instead\n",
      "\n",
      "See the caveats in the documentation: http://pandas.pydata.org/pandas-docs/stable/indexing.html#indexing-view-versus-copy\n",
      "  self.obj[item] = s\n"
     ]
    },
    {
     "data": {
      "text/plain": [
       "Nome do Hotel      object\n",
       "Localizacao         int64\n",
       "Quartos             int64\n",
       "Servico             int64\n",
       "Limpeza             int64\n",
       "Custo-Benefício     int64\n",
       "Conforto            int64\n",
       "Facilidades         int64\n",
       "Prédio              int64\n",
       "Café da Manhã       int64\n",
       "Comida              int64\n",
       "dtype: object"
      ]
     },
     "execution_count": 27,
     "metadata": {},
     "output_type": "execute_result"
    }
   ],
   "source": [
    "pdNoNan.iloc[:,1] = pdNoNan.Localizacao.astype('int64')\n",
    "pdNoNan.dtypes"
   ]
  },
  {
   "cell_type": "code",
   "execution_count": null,
   "metadata": {
    "collapsed": true
   },
   "outputs": [],
   "source": []
  },
  {
   "cell_type": "code",
   "execution_count": null,
   "metadata": {
    "collapsed": true
   },
   "outputs": [],
   "source": []
  }
 ],
 "metadata": {
  "kernelspec": {
   "display_name": "Python 3",
   "language": "python",
   "name": "python3"
  },
  "language_info": {
   "codemirror_mode": {
    "name": "ipython",
    "version": 3
   },
   "file_extension": ".py",
   "mimetype": "text/x-python",
   "name": "python",
   "nbconvert_exporter": "python",
   "pygments_lexer": "ipython3",
   "version": "3.6.0"
  }
 },
 "nbformat": 4,
 "nbformat_minor": 2
}
