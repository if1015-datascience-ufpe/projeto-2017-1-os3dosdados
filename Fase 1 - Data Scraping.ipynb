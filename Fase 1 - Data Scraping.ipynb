{
 "cells": [
  {
   "cell_type": "markdown",
   "metadata": {},
   "source": [
    "# Uma análise quantitativa dos hotéis em Recife a partir dos dados do Trivago\n",
    "\n",
    "Ângelo de Sant'Ana &mdash;\n",
    "assd {em} cin.ufpe.br;\n",
    "\n",
    "Antônio Rodrigues &mdash;\n",
    "acpr {em} cin.ufpe.br;\n",
    "\n",
    "Juliana Carvalho &mdash;\n",
    "jco2 {em} cin.ufpe.br\n",
    "\n",
    "junho de 2017"
   ]
  },
  {
   "cell_type": "code",
   "execution_count": 1,
   "metadata": {
    "collapsed": true
   },
   "outputs": [],
   "source": [
    "from bs4 import BeautifulSoup\n",
    "import pandas as pd\n",
    "import re"
   ]
  },
  {
   "cell_type": "markdown",
   "metadata": {},
   "source": [
    "##### Localização dos dados relevantes\n",
    "\n",
    "Abaixo começamos a localização dos elementos importantes das páginas .html para reconhecimento dos conjuntos que contêm\n",
    "os valores que desejamos usar na nossa análise."
   ]
  },
  {
   "cell_type": "markdown",
   "metadata": {},
   "source": [
    "###### Dados sobre avaliação dos hotéis"
   ]
  },
  {
   "cell_type": "code",
   "execution_count": 18,
   "metadata": {
    "collapsed": false,
    "scrolled": true
   },
   "outputs": [],
   "source": [
    "# fazer um iterador para capturar todas as páginas de 1 a 5\n",
    "\n",
    "i = 1\n",
    "while i <= 5:\n",
    "    \n",
    "    urlAvaliacoes = \"pages/avaliacoesPag%d.html\" % i\n",
    "\n",
    "    parsed_page_avaliacoes = BeautifulSoup(open(urlAvaliacoes,encoding=\"utf-8\"),\"html.parser\")\n",
    "\n",
    "    listaHoteis = []\n",
    "\n",
    "    nomesDosHoteisAvaliacoes = parsed_page_avaliacoes.find_all('h3', class_=\"name__copytext m-0 item__slideout-toggle\")\n",
    "\n",
    "    divsAvaliacoes = parsed_page_avaliacoes.find_all('div', class_=\"rat-chart__group rat-chart__group--collapsed\")\n",
    "\n",
    "    avaliacaoToInt = lambda x: int(re.sub('[\\/][0-9]{3}', '', re.sub('[a-zA-ZzáàâãéèêíïóôõöúçñÁÀÂÃÉÈÍÏÓÔÕÖÚÇÑ\\s]+','',x)))\n",
    "\n",
    "    aggregate = list(zip(nomesDosHoteisAvaliacoes, divsAvaliacoes))\n",
    "\n",
    "    for (hotelName, avaliacoes) in aggregate:\n",
    "        valoresAvaliacoes = avaliacoes.find_all(class_=\"rat-chart__number\");\n",
    "\n",
    "        listaValoresAux = []\n",
    "        listaValoresAux.append(hotelName.text)\n",
    "\n",
    "        for valor in valoresAvaliacoes:\n",
    "            if \"Não\" in valor.text:\n",
    "                listaValoresAux.append(valor.text)\n",
    "            else:\n",
    "                listaValoresAux.append(int(avaliacaoToInt(valor.text)))\n",
    "\n",
    "    #         print(listaValoresAux)\n",
    "\n",
    "        listaHoteis.append(dict(zip([\"nome_do_hotel\", \"localizacao\", \"quartos\", \"servico\", \"limpeza\", \"custo-beneficio\", \\\n",
    "                                     \"conforto\", \"facilidades\", \"predio\", \"cafe_da_manha\", \"comida\"], listaValoresAux)))\n",
    "\n",
    "    # print(listaHoteis)\n",
    "\n",
    "    pdHoteis = pd.DataFrame(listaHoteis, columns=[\"nome_do_hotel\", \"localizacao\", \"quartos\", \"servico\", \"limpeza\", \\\n",
    "                                          \"custo-beneficio\", \"conforto\", \"facilidades\", \"predio\", \"cafe_da_manha\", \"comida\"])\n",
    "    # print(pdHoteis.describe())\n",
    "    # pdHoteis.head(70)\n",
    "    arquivoSaida = 'saidaDataScraping/saidaDataScrapingAval%d.csv' % i\n",
    "    pdHoteis.to_csv(arquivoSaida,sep=';',encoding='utf-8')\n",
    "    i += 1\n"
   ]
  },
  {
   "cell_type": "markdown",
   "metadata": {},
   "source": [
    "##### Dados sobre informações dos hotéis"
   ]
  },
  {
   "cell_type": "code",
   "execution_count": 16,
   "metadata": {
    "collapsed": false
   },
   "outputs": [
    {
     "data": {
      "text/html": [
       "<div>\n",
       "<table border=\"1\" class=\"dataframe\">\n",
       "  <thead>\n",
       "    <tr style=\"text-align: right;\">\n",
       "      <th></th>\n",
       "      <th>Academia</th>\n",
       "      <th>Bar no hotel</th>\n",
       "      <th>Check-in / out Expresso</th>\n",
       "      <th>Estacionamento</th>\n",
       "      <th>Lavanderia</th>\n",
       "      <th>PC com Internet</th>\n",
       "      <th>Piscina exterior</th>\n",
       "      <th>Quarto para não-fumantes</th>\n",
       "      <th>Recepção 24 horas</th>\n",
       "      <th>Restaurante</th>\n",
       "      <th>Sala de conferências</th>\n",
       "      <th>Terraço</th>\n",
       "      <th>Wi-Fi grátis no lobby</th>\n",
       "      <th>Wi-Fi no Lobby</th>\n",
       "      <th>Acessível para cadeirante</th>\n",
       "      <th>Corredores com acessibilidade</th>\n",
       "      <th>Cama infantil / Berço</th>\n",
       "    </tr>\n",
       "  </thead>\n",
       "  <tbody>\n",
       "    <tr>\n",
       "      <th>0</th>\n",
       "      <td>NaN</td>\n",
       "      <td>NaN</td>\n",
       "      <td>NaN</td>\n",
       "      <td>NaN</td>\n",
       "      <td>NaN</td>\n",
       "      <td>NaN</td>\n",
       "      <td>NaN</td>\n",
       "      <td>NaN</td>\n",
       "      <td>NaN</td>\n",
       "      <td>NaN</td>\n",
       "      <td>NaN</td>\n",
       "      <td>NaN</td>\n",
       "      <td>NaN</td>\n",
       "      <td>NaN</td>\n",
       "      <td>NaN</td>\n",
       "      <td>NaN</td>\n",
       "      <td>1</td>\n",
       "    </tr>\n",
       "  </tbody>\n",
       "</table>\n",
       "</div>"
      ],
      "text/plain": [
       "  Academia Bar no hotel Check-in / out Expresso Estacionamento Lavanderia  \\\n",
       "0      NaN          NaN                     NaN            NaN        NaN   \n",
       "\n",
       "  PC com Internet Piscina exterior Quarto para não-fumantes Recepção 24 horas  \\\n",
       "0             NaN              NaN                      NaN               NaN   \n",
       "\n",
       "  Restaurante Sala de conferências Terraço Wi-Fi grátis no lobby  \\\n",
       "0         NaN                  NaN     NaN                   NaN   \n",
       "\n",
       "  Wi-Fi no Lobby Acessível para cadeirante Corredores com acessibilidade  \\\n",
       "0            NaN                       NaN                           NaN   \n",
       "\n",
       "   Cama infantil / Berço  \n",
       "0                      1  "
      ]
     },
     "execution_count": 16,
     "metadata": {},
     "output_type": "execute_result"
    }
   ],
   "source": [
    "urlInfos = \"pages/InfoPag1.html\"\n",
    "\n",
    "parsed_page_infos = BeautifulSoup(open(urlInfos,encoding=\"utf-8\"),\"html.parser\")\n",
    "\n",
    "listaHoteis = []\n",
    "\n",
    "# pegando os nomes do hotéis\n",
    "nomesDosHoteisInfos = parsed_page_infos.find_all('h3', class_=\"name__copytext m-0 item__slideout-toggle\")\n",
    "\n",
    "# pegando o conjunto de comodidades de cada hotel\n",
    "divsInfos = parsed_page_infos.find_all('div', class_=\"sl-box__block clearfix\")\n",
    "\n",
    "# associando o hotel as suas comodidades\n",
    "aggregate = list(zip(nomesDosHoteisInfos, divsInfos))\n",
    "\n",
    "# print(divsInfos)\n",
    "\n",
    "# print(aggregate)\n",
    "\n",
    "dictHoteisInfos = {}\n",
    "pdInfos = pd.DataFrame()\n",
    "\n",
    "listaAuxMerge = []\n",
    "\n",
    "for (hotelName, hidden) in aggregate:    \n",
    "    listaColumnsAux = []\n",
    "    \n",
    "    for infos in hidden:\n",
    "        dictCaracteristicasAux = {}\n",
    "        \n",
    "        definiuDF = False\n",
    "        \n",
    "        if \"Comodidades do Quarto\" not in infos.text:\n",
    "            for itens in infos.contents[1].find_all(\"li\", class_=\"unordered-list__item\"):\n",
    "                listaColumnsAux.append(itens.contents[0])\n",
    "                dictCaracteristicasAux[itens.contents[0]] = [1]\n",
    "                \n",
    "                if not definiuDF:\n",
    "                    pdTemp = pd.DataFrame(dictCaracteristicasAux, columns=listaColumnsAux, index=[0])\n",
    "                    definiuDF = True\n",
    "#                 else:\n",
    "#                     pdTemp[0] = pdTemp[itens.contents[0]].map({itens.contents[0]: 1})\n",
    "        \n",
    "            dictHoteisInfos[hotelName.text] = dictCaracteristicasAux\n",
    "        \n",
    "#         print(dictCaracteristicasAux)\n",
    "            \n",
    "    listaAuxMerge = list(set(listaAuxMerge) | set(listaColumnsAux))\n",
    "\n",
    "pdTemp.head()\n",
    "# print(dictHoteisInfos)\n",
    "# print(listaAuxMerge)\n",
    "# print(pdInfos)\n"
   ]
  },
  {
   "cell_type": "code",
   "execution_count": null,
   "metadata": {
    "collapsed": true
   },
   "outputs": [],
   "source": []
  }
 ],
 "metadata": {
  "kernelspec": {
   "display_name": "Python 3",
   "language": "python",
   "name": "python3"
  },
  "language_info": {
   "codemirror_mode": {
    "name": "ipython",
    "version": 3
   },
   "file_extension": ".py",
   "mimetype": "text/x-python",
   "name": "python",
   "nbconvert_exporter": "python",
   "pygments_lexer": "ipython3",
   "version": "3.6.0"
  }
 },
 "nbformat": 4,
 "nbformat_minor": 2
}
